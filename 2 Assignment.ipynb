{
 "cells": [
  {
   "cell_type": "code",
   "execution_count": 9,
   "id": "ff868d75-c58d-4cb9-8691-f66f0f47c219",
   "metadata": {},
   "outputs": [
    {
     "name": "stdin",
     "output_type": "stream",
     "text": [
      "Enter your marks 89\n"
     ]
    },
    {
     "name": "stdout",
     "output_type": "stream",
     "text": [
      "Passed with grade A\n"
     ]
    }
   ],
   "source": [
    "#1\n",
    "marks = int(input(\"Enter your marks\"))\n",
    "\n",
    "if marks >= 80 :\n",
    "    print(\"Passed with grade A\")\n",
    "elif marks >= 60 and marks < 80:\n",
    "    print(\"Passed with grade B\")\n",
    "elif marks >=40 and marks < 60:\n",
    "    print(\"Passed with grade C\")\n",
    "else :\n",
    "    print(\"You have failed!\")\n",
    "    "
   ]
  },
  {
   "cell_type": "code",
   "execution_count": null,
   "id": "e3a37ba6-7138-4ab7-bd14-ca34d50ba9e8",
   "metadata": {},
   "outputs": [],
   "source": [
    "#2\n",
    "cost_bike=int(input(\"Enter the cost of the bike:\"))\n",
    "if cost_bike>100000:\n",
    "    tax=0.15*cost_bike\n",
    "    print('tax to be paid:',tax)\n",
    "elif cost_bike>50000 and cost_bike<=100000:\n",
    "    tax=0.10*cost_bike\n",
    "    print(\"tax to be paid:\",tax)\n",
    "elif cost_bike<=50000:\n",
    "    tax=0.05*cost_bike\n",
    "    print(\"tax to be paid:\",tax)\n",
    "else:\n",
    "    print(\"No tax to be paid:\")"
   ]
  },
  {
   "cell_type": "code",
   "execution_count": 4,
   "id": "7d668854-fa0e-4abc-b2fa-30dfb7dcf0ce",
   "metadata": {},
   "outputs": [
    {
     "name": "stdin",
     "output_type": "stream",
     "text": [
      "Enter a city name: Delhi\n"
     ]
    },
    {
     "name": "stdout",
     "output_type": "stream",
     "text": [
      "Red fort\n"
     ]
    }
   ],
   "source": [
    "#3\n",
    "city=(input(\"Enter a city name:\"))\n",
    "if city=='Delhi':\n",
    "    print(\"Red fort\")\n",
    "elif city=='Agra':\n",
    "    print(\"Taj Mahal\")\n",
    "elif city=='Jaipur':\n",
    "    print(\"jal Mahal\")\n",
    "else:\n",
    "    print(\"Try different city\")"
   ]
  },
  {
   "cell_type": "code",
   "execution_count": 1,
   "id": "959a3eda-1df5-4776-a41c-d9afa76fc12a",
   "metadata": {},
   "outputs": [
    {
     "name": "stdin",
     "output_type": "stream",
     "text": [
      "Enter a number 8\n"
     ]
    },
    {
     "name": "stdout",
     "output_type": "stream",
     "text": [
      "iterations completed 0\n"
     ]
    }
   ],
   "source": [
    "#4\n",
    "count=0\n",
    "num=int(input(\"Enter a number\"))\n",
    "while(num>10):\n",
    "    num=num/3\n",
    "    count=count+1\n",
    "print(\"iterations completed\",count)"
   ]
  },
  {
   "cell_type": "code",
   "execution_count": 2,
   "id": "5ff695e6-13fc-4705-86d0-a9a76e933a10",
   "metadata": {},
   "outputs": [
    {
     "name": "stdout",
     "output_type": "stream",
     "text": [
      "10\n",
      "9\n",
      "8\n",
      "7\n",
      "6\n",
      "5\n",
      "4\n",
      "3\n",
      "2\n",
      "1\n",
      "0\n"
     ]
    }
   ],
   "source": [
    "#5\n",
    "n=10\n",
    "while(n>=0):\n",
    "    print(n)\n",
    "    n-=1"
   ]
  },
  {
   "cell_type": "code",
   "execution_count": 3,
   "id": "76c37a78-c5c2-4da6-acc4-7261dc6ac81b",
   "metadata": {},
   "outputs": [
    {
     "name": "stdout",
     "output_type": "stream",
     "text": [
      "1 \n",
      "1 2 \n",
      "1 2 3 \n",
      "1 2 3 4 \n",
      "1 2 3 4 5 \n"
     ]
    }
   ],
   "source": [
    "#6\n",
    "i=1\n",
    "while i<=5:\n",
    "    j=1\n",
    "    while j<=i:\n",
    "        print(j,end=\" \")\n",
    "        j=j+1\n",
    "    print(\"\")\n",
    "    i=i+1"
   ]
  },
  {
   "cell_type": "code",
   "execution_count": null,
   "id": "a2a240ea-5ce4-4e0f-aa85-ce18f430e142",
   "metadata": {},
   "outputs": [],
   "source": []
  }
 ],
 "metadata": {
  "kernelspec": {
   "display_name": "Python 3 (ipykernel)",
   "language": "python",
   "name": "python3"
  },
  "language_info": {
   "codemirror_mode": {
    "name": "ipython",
    "version": 3
   },
   "file_extension": ".py",
   "mimetype": "text/x-python",
   "name": "python",
   "nbconvert_exporter": "python",
   "pygments_lexer": "ipython3",
   "version": "3.10.8"
  }
 },
 "nbformat": 4,
 "nbformat_minor": 5
}
